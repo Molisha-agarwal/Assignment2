{
  "nbformat": 4,
  "nbformat_minor": 0,
  "metadata": {
    "colab": {
      "provenance": []
    },
    "kernelspec": {
      "name": "python3",
      "display_name": "Python 3"
    },
    "language_info": {
      "name": "python"
    }
  },
  "cells": [
    {
      "cell_type": "markdown",
      "source": [
        "Module 2"
      ],
      "metadata": {
        "id": "2EB7j0yp6rR3"
      }
    },
    {
      "cell_type": "markdown",
      "source": [
        "Q-1:What are data structures, and why are they important3\n"
      ],
      "metadata": {
        "id": "UJFoBrFsESXy"
      }
    },
    {
      "cell_type": "markdown",
      "source": [
        "Data structure are important because way of organizing and storing data so that it can be accessed and manipulated efficiently.\n",
        "Different data structures are-list,tuple,dictionary,sets,strings,arrays.\n"
      ],
      "metadata": {
        "id": "3ZzUuAJkEf8u"
      }
    },
    {
      "cell_type": "markdown",
      "source": [
        "Q-2: Explain the difference between mutable and immutable data types with examplesP"
      ],
      "metadata": {
        "id": "AZUyYEppFB39"
      }
    },
    {
      "cell_type": "markdown",
      "source": [
        "Mutable data type-mutable data types such as list are those data types whose value can be changed or modify after their creation.\n",
        "Immutable data type-immutable data type such as tuple,strings are those whose value cannot be changed or modify after their creation."
      ],
      "metadata": {
        "id": "Z8IMSY2eFD7P"
      }
    },
    {
      "cell_type": "markdown",
      "source": [
        "Q-3:What are the main differences between lists and tuples in Python3\n"
      ],
      "metadata": {
        "id": "ds6Oudo7GKzB"
      }
    },
    {
      "cell_type": "markdown",
      "source": [
        "List-List stores heterogenous elements means stores any data type , list is a mutable type of object,list is a collection of ordered elements.\n",
        "Enclosed within the [].\n",
        "Tuples-Tuples also stores heterogenous elements ,Unlike list tuples are immutable data type,Enclosed within the ()."
      ],
      "metadata": {
        "id": "F5XqYYCXGMOl"
      }
    },
    {
      "cell_type": "markdown",
      "source": [
        "Q-4:P Describe how dictionaries store dataP"
      ],
      "metadata": {
        "id": "QQ-V03_QHIr1"
      }
    },
    {
      "cell_type": "markdown",
      "source": [
        "Dictinaries stores data in the key value pairs and these key value pairs are unique."
      ],
      "metadata": {
        "id": "GNHn75mHPnhP"
      }
    },
    {
      "cell_type": "markdown",
      "source": [
        "Q-5:P Why might you use a set instead of a list in Python3"
      ],
      "metadata": {
        "id": "UiOaRE1XPyEF"
      }
    },
    {
      "cell_type": "markdown",
      "source": [
        "Set is used instead of a list because set stores unordered unique collection of elements wheresa list stores heterogenous elements means of any data type ."
      ],
      "metadata": {
        "id": "p0d4bjVgPzoP"
      }
    },
    {
      "cell_type": "markdown",
      "source": [
        "Q-6:What is a string in Python, and how is it different from a list3\n"
      ],
      "metadata": {
        "id": "nLtiqjfhQVv2"
      }
    },
    {
      "cell_type": "markdown",
      "source": [
        "String is a sequence of charaters represents and manipulate textual data .\n",
        "string is a immutable data type while list is a mutable data type in python.\n"
      ],
      "metadata": {
        "id": "7wjhe3NHQXQR"
      }
    },
    {
      "cell_type": "markdown",
      "source": [
        "Q-7:How do tuples ensure data integrity in Python3"
      ],
      "metadata": {
        "id": "fB8OrvJxQwFl"
      }
    },
    {
      "cell_type": "markdown",
      "source": [
        "Tuples are immutable, meaning their elements cannot be modified after creation. This ensures data integrity by preventing accidental changes, making them ideal for storing fixed data like coordinates or database records."
      ],
      "metadata": {
        "id": "1pwfAeDRQyPw"
      }
    },
    {
      "cell_type": "markdown",
      "source": [
        "Q-8:What is a hash table, and how does it relate to dictionaries in Python3"
      ],
      "metadata": {
        "id": "835QdJZRHsJk"
      }
    },
    {
      "cell_type": "markdown",
      "source": [
        "A hash table is a data structure that maps keys to values using a hash function. In Python, dictionaries are implemented as hash tables, allowing fast lookups, insertions, and deletions (average time complexity of O(1))."
      ],
      "metadata": {
        "id": "SdWK4r9EHvE7"
      }
    },
    {
      "cell_type": "markdown",
      "source": [
        "Q-9:Can lists contain different data types in Python3"
      ],
      "metadata": {
        "id": "nQNj0AlcHKz3"
      }
    },
    {
      "cell_type": "markdown",
      "source": [
        "Yes, Python lists can hold elements of different data types, such as integers, strings, and even other lists or objects."
      ],
      "metadata": {
        "id": "pQ8zh4bRH3P-"
      }
    },
    {
      "cell_type": "markdown",
      "source": [
        "Q-10: Explain why strings are immutable in Python\n"
      ],
      "metadata": {
        "id": "08_SMrVxH6Q-"
      }
    },
    {
      "cell_type": "markdown",
      "source": [
        "Strings are immutable to enhance performance, security, and memory efficiency. Since they cannot be modified, they can be safely shared across different parts of a program without unexpected changes."
      ],
      "metadata": {
        "id": "XAlirgkKH8aW"
      }
    },
    {
      "cell_type": "markdown",
      "source": [
        "Q-11:What advantages do dictionaries offer over lists for certain tasks3\n"
      ],
      "metadata": {
        "id": "JSXQ_7btH_v_"
      }
    },
    {
      "cell_type": "markdown",
      "source": [
        "Faster lookups (O(1) vs. O(n) for lists).\n",
        "\n",
        "Keys provide meaningful associations instead of relying on index positions.\n",
        "\n",
        "Efficient storage and retrieval for large datasets when key-based access is required."
      ],
      "metadata": {
        "id": "3luG5cbcICEh"
      }
    },
    {
      "cell_type": "markdown",
      "source": [
        "Q-12: Describe a scenario where using a tuple would be preferable over a list"
      ],
      "metadata": {
        "id": "O2ofRg-3IGaT"
      }
    },
    {
      "cell_type": "markdown",
      "source": [
        "Tuples are preferable when dealing with fixed collections of items that should not change, such as:\n",
        "\n",
        "Database records (e.g., storing user credentials).\n",
        "\n",
        "Keys in dictionaries (since tuples are hashable, unlike lists).\n",
        "\n",
        "Function return values where immutability ensures consistency."
      ],
      "metadata": {
        "id": "DdlLAFgPIJNR"
      }
    },
    {
      "cell_type": "markdown",
      "source": [
        "Q-13:"
      ],
      "metadata": {
        "id": "Yg-0qCgmIMwj"
      }
    },
    {
      "cell_type": "markdown",
      "source": [
        "Sets automatically remove duplicate values, ensuring that each element is unique."
      ],
      "metadata": {
        "id": "yVb39LAOIPFy"
      }
    },
    {
      "cell_type": "markdown",
      "source": [
        "Q-14:"
      ],
      "metadata": {
        "id": "gvsR9fecISl-"
      }
    },
    {
      "cell_type": "markdown",
      "source": [
        "For lists: It checks if a value exists by iterating through the elements (O(n) time complexity).\n",
        "\n",
        "For dictionaries: It checks for key existence using a hash function (O(1) time complexity)."
      ],
      "metadata": {
        "id": "3B-aRL-GIUHZ"
      }
    },
    {
      "cell_type": "markdown",
      "source": [
        "Q-15:"
      ],
      "metadata": {
        "id": "SIv-vfggIXso"
      }
    },
    {
      "cell_type": "markdown",
      "source": [
        "No, tuples are immutable, meaning elements cannot be modified, added, or removed after creation. This behavior ensures data integrity."
      ],
      "metadata": {
        "id": "ehmF8DdoIaOY"
      }
    },
    {
      "cell_type": "markdown",
      "source": [
        "Q-16:"
      ],
      "metadata": {
        "id": "jI4JZpGJIdKh"
      }
    },
    {
      "cell_type": "markdown",
      "source": [
        "A nested dictionary is a dictionary where values are dictionaries. Example use case: storing student records."
      ],
      "metadata": {
        "id": "yeWqWVfTIemo"
      }
    },
    {
      "cell_type": "markdown",
      "source": [
        "Practical Questions"
      ],
      "metadata": {
        "id": "wnqwCi3n2p9r"
      }
    },
    {
      "cell_type": "markdown",
      "source": [
        "Q-1:"
      ],
      "metadata": {
        "id": "4txHICRD3bbn"
      }
    },
    {
      "cell_type": "code",
      "execution_count": null,
      "metadata": {
        "id": "ukekcZDa6dOY",
        "colab": {
          "base_uri": "https://localhost:8080/"
        },
        "outputId": "146ffdb3-f13a-4ad9-b7e8-d4bbb1913201"
      },
      "outputs": [
        {
          "output_type": "stream",
          "name": "stdout",
          "text": [
            "Molisha Agarwal\n"
          ]
        }
      ],
      "source": [
        "name=\"Molisha Agarwal\"\n",
        "print(name)"
      ]
    },
    {
      "cell_type": "markdown",
      "source": [
        "Q-2:"
      ],
      "metadata": {
        "id": "lU6ofh3Z3eZJ"
      }
    },
    {
      "cell_type": "code",
      "source": [
        "str=\"hello world\"\n",
        "print(len(str))"
      ],
      "metadata": {
        "colab": {
          "base_uri": "https://localhost:8080/"
        },
        "id": "Qo9yYY7v20lZ",
        "outputId": "3024a597-16d7-4796-d668-ca08605c967e"
      },
      "execution_count": null,
      "outputs": [
        {
          "output_type": "stream",
          "name": "stdout",
          "text": [
            "11\n"
          ]
        }
      ]
    },
    {
      "cell_type": "markdown",
      "source": [
        "Q-3:"
      ],
      "metadata": {
        "id": "1N4UWmEw3hYj"
      }
    },
    {
      "cell_type": "code",
      "source": [
        "str1=\"Python Programming\"\n",
        "print(str1[0:3])"
      ],
      "metadata": {
        "colab": {
          "base_uri": "https://localhost:8080/"
        },
        "id": "4ZyF23Av28vG",
        "outputId": "8db4ee5d-426c-4c00-8141-67bc110a30fa"
      },
      "execution_count": null,
      "outputs": [
        {
          "output_type": "stream",
          "name": "stdout",
          "text": [
            "Pyt\n"
          ]
        }
      ]
    },
    {
      "cell_type": "markdown",
      "source": [
        "Q-4:"
      ],
      "metadata": {
        "id": "tX6VhrKB3j-A"
      }
    },
    {
      "cell_type": "code",
      "source": [
        "str2=\"hello\"\n",
        "print(str2.upper())"
      ],
      "metadata": {
        "colab": {
          "base_uri": "https://localhost:8080/"
        },
        "id": "DX9QisHD3Ntc",
        "outputId": "8a84ca2f-1ab1-4876-9333-93f781ca233d"
      },
      "execution_count": null,
      "outputs": [
        {
          "output_type": "stream",
          "name": "stdout",
          "text": [
            "HELLO\n"
          ]
        }
      ]
    },
    {
      "cell_type": "markdown",
      "source": [
        "Q-5:"
      ],
      "metadata": {
        "id": "jSRdmvft3lqr"
      }
    },
    {
      "cell_type": "code",
      "source": [
        "str3=\"I like apple\"\n",
        "x=str3.replace(\"apple\",\"orange\")\n",
        "print(x)"
      ],
      "metadata": {
        "colab": {
          "base_uri": "https://localhost:8080/"
        },
        "id": "eHRmOxTH3W6j",
        "outputId": "55fff6cb-03a4-4df5-f15c-fb17b5ad814d"
      },
      "execution_count": null,
      "outputs": [
        {
          "output_type": "stream",
          "name": "stdout",
          "text": [
            "I like orange\n"
          ]
        }
      ]
    },
    {
      "cell_type": "markdown",
      "source": [
        "Q-6:"
      ],
      "metadata": {
        "id": "Fj0GfnPn4t12"
      }
    },
    {
      "cell_type": "code",
      "source": [
        "\n",
        "print([1,2,3,4,5])"
      ],
      "metadata": {
        "colab": {
          "base_uri": "https://localhost:8080/"
        },
        "id": "v6iF7Eco4wJn",
        "outputId": "386d309a-20f6-4524-d942-fe20ab519442"
      },
      "execution_count": null,
      "outputs": [
        {
          "output_type": "stream",
          "name": "stdout",
          "text": [
            "[1, 2, 3, 4, 5]\n"
          ]
        }
      ]
    },
    {
      "cell_type": "markdown",
      "source": [
        "Q-7:"
      ],
      "metadata": {
        "id": "BspSglnk5O5U"
      }
    },
    {
      "cell_type": "code",
      "source": [
        "list=[1,2,3,4]\n",
        "list.append(10)\n",
        "list"
      ],
      "metadata": {
        "colab": {
          "base_uri": "https://localhost:8080/"
        },
        "id": "ATfEKA755SjO",
        "outputId": "708a41c4-2c21-415e-e627-85cbd099bee6"
      },
      "execution_count": null,
      "outputs": [
        {
          "output_type": "execute_result",
          "data": {
            "text/plain": [
              "[1, 2, 3, 4, 10]"
            ]
          },
          "metadata": {},
          "execution_count": 16
        }
      ]
    },
    {
      "cell_type": "markdown",
      "source": [
        "Q-8:"
      ],
      "metadata": {
        "id": "DPWQiPFe5oby"
      }
    },
    {
      "cell_type": "code",
      "source": [
        "list1=[1,2,3,4,5]\n",
        "list1.remove(3)\n",
        "list1"
      ],
      "metadata": {
        "colab": {
          "base_uri": "https://localhost:8080/"
        },
        "id": "B3NnKDSr5yyz",
        "outputId": "c0616bda-8fdc-4480-b92c-c5b595bd6d23"
      },
      "execution_count": null,
      "outputs": [
        {
          "output_type": "execute_result",
          "data": {
            "text/plain": [
              "[1, 2, 4, 5]"
            ]
          },
          "metadata": {},
          "execution_count": 17
        }
      ]
    },
    {
      "cell_type": "markdown",
      "source": [
        "Q-9:"
      ],
      "metadata": {
        "id": "kzheey8u55mm"
      }
    },
    {
      "cell_type": "code",
      "source": [
        "list2=['a','b','c','d']\n",
        "list2[1]"
      ],
      "metadata": {
        "colab": {
          "base_uri": "https://localhost:8080/",
          "height": 35
        },
        "id": "mQKmycNn6Acw",
        "outputId": "dbecfddd-0861-40af-bf6e-898abeb22905"
      },
      "execution_count": null,
      "outputs": [
        {
          "output_type": "execute_result",
          "data": {
            "text/plain": [
              "'b'"
            ],
            "application/vnd.google.colaboratory.intrinsic+json": {
              "type": "string"
            }
          },
          "metadata": {},
          "execution_count": 19
        }
      ]
    },
    {
      "cell_type": "markdown",
      "source": [
        "Q-10:"
      ],
      "metadata": {
        "id": "gaWfaS0e6KwM"
      }
    },
    {
      "cell_type": "code",
      "source": [
        "list3=[10,20,30,40,50]\n",
        "list3.reverse()\n",
        "list3"
      ],
      "metadata": {
        "colab": {
          "base_uri": "https://localhost:8080/"
        },
        "id": "YHYBJZq36MxL",
        "outputId": "ca751e3d-54a7-4488-df33-b5de8bdac089"
      },
      "execution_count": null,
      "outputs": [
        {
          "output_type": "execute_result",
          "data": {
            "text/plain": [
              "[50, 40, 30, 20, 10]"
            ]
          },
          "metadata": {},
          "execution_count": 21
        }
      ]
    },
    {
      "cell_type": "markdown",
      "source": [
        "Q-11:"
      ],
      "metadata": {
        "id": "Ng6sk2Ct6cCw"
      }
    },
    {
      "cell_type": "code",
      "source": [
        "t1=(100,200,300)\n",
        "t1"
      ],
      "metadata": {
        "colab": {
          "base_uri": "https://localhost:8080/"
        },
        "id": "vkrTKian6fb6",
        "outputId": "eaec7bc4-c89d-4c19-f68f-854b897c1f15"
      },
      "execution_count": null,
      "outputs": [
        {
          "output_type": "execute_result",
          "data": {
            "text/plain": [
              "(100, 200, 300)"
            ]
          },
          "metadata": {},
          "execution_count": 23
        }
      ]
    },
    {
      "cell_type": "markdown",
      "source": [
        "Q-12:"
      ],
      "metadata": {
        "id": "kZ_nPf4X655x"
      }
    },
    {
      "cell_type": "code",
      "source": [
        "t2=(\"red\",\"green\",\"blue\",\"yellow\")\n",
        "t2[-2]"
      ],
      "metadata": {
        "colab": {
          "base_uri": "https://localhost:8080/",
          "height": 35
        },
        "id": "P2WoQN5867c0",
        "outputId": "d25a4d3c-dda8-4c29-852d-b87d2cb959f7"
      },
      "execution_count": null,
      "outputs": [
        {
          "output_type": "execute_result",
          "data": {
            "text/plain": [
              "'blue'"
            ],
            "application/vnd.google.colaboratory.intrinsic+json": {
              "type": "string"
            }
          },
          "metadata": {},
          "execution_count": 24
        }
      ]
    },
    {
      "cell_type": "markdown",
      "source": [
        "Q-13:"
      ],
      "metadata": {
        "id": "BkCVWeEo7Kg9"
      }
    },
    {
      "cell_type": "code",
      "source": [
        "t3=(10,20,5,15)\n",
        "print(min(t3))"
      ],
      "metadata": {
        "colab": {
          "base_uri": "https://localhost:8080/"
        },
        "id": "qY_NHdMU7L5n",
        "outputId": "4f4269fa-a036-4f4f-ea38-c0476da29e27"
      },
      "execution_count": null,
      "outputs": [
        {
          "output_type": "stream",
          "name": "stdout",
          "text": [
            "5\n"
          ]
        }
      ]
    },
    {
      "cell_type": "markdown",
      "source": [
        "Q-14:"
      ],
      "metadata": {
        "id": "DAlrlWSo7vsK"
      }
    },
    {
      "cell_type": "code",
      "source": [
        "t4=(\"dog\",\"cat\",\"rabbit\")\n",
        "t4.index(\"cat\")\n"
      ],
      "metadata": {
        "colab": {
          "base_uri": "https://localhost:8080/"
        },
        "id": "aS2IW19G7x2W",
        "outputId": "b4302b89-b840-4a36-8a82-557307a80bf7"
      },
      "execution_count": null,
      "outputs": [
        {
          "output_type": "execute_result",
          "data": {
            "text/plain": [
              "1"
            ]
          },
          "metadata": {},
          "execution_count": 28
        }
      ]
    },
    {
      "cell_type": "markdown",
      "source": [
        "Q-15:"
      ],
      "metadata": {
        "id": "cvTQtf8B8EW2"
      }
    },
    {
      "cell_type": "code",
      "source": [
        "t5=(\"apple\",\"kiwi\",\"banana\")\n",
        "if \"kiwi\" in t5:\n",
        "  print(\"yes it is present\")"
      ],
      "metadata": {
        "colab": {
          "base_uri": "https://localhost:8080/"
        },
        "id": "a_xPrtgZ8GmP",
        "outputId": "63cf820f-2ea1-43b4-e8bb-e3f50d6dc9d2"
      },
      "execution_count": null,
      "outputs": [
        {
          "output_type": "stream",
          "name": "stdout",
          "text": [
            "yes it is present\n"
          ]
        }
      ]
    },
    {
      "cell_type": "markdown",
      "source": [
        "Q-16:"
      ],
      "metadata": {
        "id": "R2vbgRk49B-s"
      }
    },
    {
      "cell_type": "code",
      "source": [
        "set1={\"a\",\"b\",\"c\"}\n",
        "set1"
      ],
      "metadata": {
        "colab": {
          "base_uri": "https://localhost:8080/"
        },
        "id": "A_E6ziJu9D9h",
        "outputId": "1ed8737b-5e79-4633-e9e4-18155484435d"
      },
      "execution_count": null,
      "outputs": [
        {
          "output_type": "execute_result",
          "data": {
            "text/plain": [
              "{'a', 'b', 'c'}"
            ]
          },
          "metadata": {},
          "execution_count": 33
        }
      ]
    },
    {
      "cell_type": "markdown",
      "source": [
        "Q-17:"
      ],
      "metadata": {
        "id": "dSIq-UTe9M0d"
      }
    },
    {
      "cell_type": "code",
      "source": [
        "set2={1,2,3,4,5}\n",
        "set2.clear()\n",
        "set2"
      ],
      "metadata": {
        "colab": {
          "base_uri": "https://localhost:8080/"
        },
        "id": "wwnT7Tv29OhT",
        "outputId": "3e5e3117-21b8-4035-d37f-28562d4e60e1"
      },
      "execution_count": null,
      "outputs": [
        {
          "output_type": "execute_result",
          "data": {
            "text/plain": [
              "set()"
            ]
          },
          "metadata": {},
          "execution_count": 35
        }
      ]
    },
    {
      "cell_type": "markdown",
      "source": [
        "Q-18:"
      ],
      "metadata": {
        "id": "QNnAMkqM9bEn"
      }
    },
    {
      "cell_type": "code",
      "source": [
        "set3={1,2,3,4}\n",
        "set3.remove(4)\n",
        "set3"
      ],
      "metadata": {
        "colab": {
          "base_uri": "https://localhost:8080/"
        },
        "id": "Yb1ikdBZ9dcU",
        "outputId": "50b150dd-57f3-4acd-a006-c124136b6782"
      },
      "execution_count": null,
      "outputs": [
        {
          "output_type": "execute_result",
          "data": {
            "text/plain": [
              "{1, 2, 3}"
            ]
          },
          "metadata": {},
          "execution_count": 38
        }
      ]
    },
    {
      "cell_type": "markdown",
      "source": [
        "Q-19:"
      ],
      "metadata": {
        "id": "cI9EuHna9vcY"
      }
    },
    {
      "cell_type": "code",
      "source": [
        "s1={1,2,3}\n",
        "s2={3,4,5}\n",
        "s1|s2"
      ],
      "metadata": {
        "colab": {
          "base_uri": "https://localhost:8080/"
        },
        "id": "wsmz9qi39xyh",
        "outputId": "9381e143-a483-4f87-d6fb-3c3c63d464e6"
      },
      "execution_count": null,
      "outputs": [
        {
          "output_type": "execute_result",
          "data": {
            "text/plain": [
              "{1, 2, 3, 4, 5}"
            ]
          },
          "metadata": {},
          "execution_count": 39
        }
      ]
    },
    {
      "cell_type": "markdown",
      "source": [
        "Q-20:"
      ],
      "metadata": {
        "id": "lmQT86Fv96LF"
      }
    },
    {
      "cell_type": "code",
      "source": [
        "s1={1,2,3}\n",
        "s2={2,3,4}\n",
        "s1&s2"
      ],
      "metadata": {
        "colab": {
          "base_uri": "https://localhost:8080/"
        },
        "id": "jfcF7PYr974Q",
        "outputId": "75e33d17-93db-4532-f28a-01c3dcfbb3bd"
      },
      "execution_count": null,
      "outputs": [
        {
          "output_type": "execute_result",
          "data": {
            "text/plain": [
              "{2, 3}"
            ]
          },
          "metadata": {},
          "execution_count": 40
        }
      ]
    },
    {
      "cell_type": "markdown",
      "source": [
        "Q-21:"
      ],
      "metadata": {
        "id": "Cf-IU3dK-FlC"
      }
    },
    {
      "cell_type": "code",
      "source": [
        "dict1={\"name\":\"Molisha\",\"age\":21,\"city\":\"delhi\"}\n",
        "dict1"
      ],
      "metadata": {
        "colab": {
          "base_uri": "https://localhost:8080/"
        },
        "id": "YASkeprI-HXO",
        "outputId": "e8654d86-3162-4580-81c6-9705e9c36204"
      },
      "execution_count": null,
      "outputs": [
        {
          "output_type": "execute_result",
          "data": {
            "text/plain": [
              "{'name': 'Molisha', 'age': 21, 'city': 'delhi'}"
            ]
          },
          "metadata": {},
          "execution_count": 41
        }
      ]
    },
    {
      "cell_type": "markdown",
      "source": [
        "Q-22:"
      ],
      "metadata": {
        "id": "3kyfHzj__QEd"
      }
    },
    {
      "cell_type": "code",
      "source": [
        "dict2={\"name\":\"John\",\"age\":25}\n",
        "dict2[\"country\"]=\"USA\"\n",
        "dict2"
      ],
      "metadata": {
        "colab": {
          "base_uri": "https://localhost:8080/"
        },
        "id": "V5L6dWqu_T-W",
        "outputId": "355c6566-4754-4e54-9a4f-7cffc31fbe31"
      },
      "execution_count": null,
      "outputs": [
        {
          "output_type": "execute_result",
          "data": {
            "text/plain": [
              "{'name': 'John', 'age': 25, 'country': 'USA'}"
            ]
          },
          "metadata": {},
          "execution_count": 43
        }
      ]
    },
    {
      "cell_type": "markdown",
      "source": [
        "Q-23:"
      ],
      "metadata": {
        "id": "ZrGzbe_g_tmg"
      }
    },
    {
      "cell_type": "code",
      "source": [
        "dict3={\"name\":\"Alice\",\"age\":30}\n",
        "dict3.get(\"name\")\n"
      ],
      "metadata": {
        "colab": {
          "base_uri": "https://localhost:8080/",
          "height": 35
        },
        "id": "qq2LkoxB_vdn",
        "outputId": "0ea03cf6-ed2f-4663-af57-dfd816912731"
      },
      "execution_count": null,
      "outputs": [
        {
          "output_type": "execute_result",
          "data": {
            "text/plain": [
              "'Alice'"
            ],
            "application/vnd.google.colaboratory.intrinsic+json": {
              "type": "string"
            }
          },
          "metadata": {},
          "execution_count": 44
        }
      ]
    },
    {
      "cell_type": "markdown",
      "source": [
        "Q-24:"
      ],
      "metadata": {
        "id": "BJ4p2NTvAVOs"
      }
    },
    {
      "cell_type": "code",
      "source": [
        "dict4= {'name': 'Bob', 'age': 22, 'city': 'New York'}\n",
        "dict4.pop(\"age\")\n",
        "dict4"
      ],
      "metadata": {
        "colab": {
          "base_uri": "https://localhost:8080/"
        },
        "id": "ElfwEB_AAXtf",
        "outputId": "bb9e30be-9d71-4dd5-e44d-e386acf0a459"
      },
      "execution_count": null,
      "outputs": [
        {
          "output_type": "execute_result",
          "data": {
            "text/plain": [
              "{'name': 'Bob', 'city': 'New York'}"
            ]
          },
          "metadata": {},
          "execution_count": 47
        }
      ]
    },
    {
      "cell_type": "markdown",
      "source": [
        "Q-25:"
      ],
      "metadata": {
        "id": "0aHj0yYYA4IX"
      }
    },
    {
      "cell_type": "code",
      "source": [
        "dict5= {'name': 'Alice', 'city': 'Paris'}\n",
        "if \"city\" in dict5:\n",
        "  print(\"yes it exist\")"
      ],
      "metadata": {
        "colab": {
          "base_uri": "https://localhost:8080/"
        },
        "id": "Csz8RSNLA6B7",
        "outputId": "60c0b434-3933-4385-8553-e65c362427ba"
      },
      "execution_count": null,
      "outputs": [
        {
          "output_type": "stream",
          "name": "stdout",
          "text": [
            "yes it exist\n"
          ]
        }
      ]
    },
    {
      "cell_type": "markdown",
      "source": [
        "Q-26:"
      ],
      "metadata": {
        "id": "5S9rSpDHBMX4"
      }
    },
    {
      "cell_type": "code",
      "source": [
        "lst=[10,20,30,40]\n",
        "lst"
      ],
      "metadata": {
        "colab": {
          "base_uri": "https://localhost:8080/"
        },
        "id": "G3_dXun-BOVM",
        "outputId": "1a015e9f-3b05-4039-bcfe-d591d4e81dca"
      },
      "execution_count": null,
      "outputs": [
        {
          "output_type": "execute_result",
          "data": {
            "text/plain": [
              "[10, 20, 30, 40]"
            ]
          },
          "metadata": {},
          "execution_count": 49
        }
      ]
    },
    {
      "cell_type": "code",
      "source": [
        "tuple=(\"apple\",\"banana\")\n",
        "tuple"
      ],
      "metadata": {
        "colab": {
          "base_uri": "https://localhost:8080/"
        },
        "id": "62QudKvUBYAs",
        "outputId": "7184bd0c-628d-4355-ceda-c6f0a7185dc9"
      },
      "execution_count": null,
      "outputs": [
        {
          "output_type": "execute_result",
          "data": {
            "text/plain": [
              "('apple', 'banana')"
            ]
          },
          "metadata": {},
          "execution_count": 50
        }
      ]
    },
    {
      "cell_type": "code",
      "source": [
        "dict={\"rollno\":10,\"name\":\"Rohit\"}\n",
        "dict"
      ],
      "metadata": {
        "colab": {
          "base_uri": "https://localhost:8080/"
        },
        "id": "T3lwBk25Bd_L",
        "outputId": "d1cb31fd-c3d0-45a0-ad48-72326047c331"
      },
      "execution_count": null,
      "outputs": [
        {
          "output_type": "execute_result",
          "data": {
            "text/plain": [
              "{'rollno': 10, 'name': 'Rohit'}"
            ]
          },
          "metadata": {},
          "execution_count": 51
        }
      ]
    },
    {
      "cell_type": "markdown",
      "source": [
        "Q-27:"
      ],
      "metadata": {
        "id": "9ZKmhP4yBo7W"
      }
    },
    {
      "cell_type": "code",
      "source": [
        "lst1=[22,45,57,62,36]\n",
        "lst1.sort()\n",
        "lst1"
      ],
      "metadata": {
        "colab": {
          "base_uri": "https://localhost:8080/"
        },
        "id": "yn69Q3iRBrlK",
        "outputId": "79c02438-bdfd-494c-ff1b-54c761c8ee07"
      },
      "execution_count": null,
      "outputs": [
        {
          "output_type": "execute_result",
          "data": {
            "text/plain": [
              "[22, 36, 45, 57, 62]"
            ]
          },
          "metadata": {},
          "execution_count": 53
        }
      ]
    },
    {
      "cell_type": "markdown",
      "source": [
        "Q-28:"
      ],
      "metadata": {
        "id": "RL8ITtbZCCJM"
      }
    },
    {
      "cell_type": "code",
      "source": [
        "list=[\"name\",\"rollno\",\"id\",\"course\"]\n",
        "list[3]"
      ],
      "metadata": {
        "colab": {
          "base_uri": "https://localhost:8080/",
          "height": 35
        },
        "id": "08twMRbjCD_c",
        "outputId": "995635dd-8bfa-490b-b093-c8e673d97055"
      },
      "execution_count": null,
      "outputs": [
        {
          "output_type": "execute_result",
          "data": {
            "text/plain": [
              "'course'"
            ],
            "application/vnd.google.colaboratory.intrinsic+json": {
              "type": "string"
            }
          },
          "metadata": {},
          "execution_count": 54
        }
      ]
    },
    {
      "cell_type": "markdown",
      "source": [
        "Q-29:"
      ],
      "metadata": {
        "id": "BNIfU3J-CWgt"
      }
    },
    {
      "cell_type": "code",
      "source": [
        "d1={\"course\":\"data science\",\"duration\":30}\n",
        "d2={\"name\":\"Ram\"}\n",
        "d1.update(d2)\n",
        "d1"
      ],
      "metadata": {
        "colab": {
          "base_uri": "https://localhost:8080/"
        },
        "id": "MRaQk1_RCYzT",
        "outputId": "bc81e1e9-1c7e-4bff-dc62-f6213ef963a1"
      },
      "execution_count": null,
      "outputs": [
        {
          "output_type": "execute_result",
          "data": {
            "text/plain": [
              "{'course': 'data science', 'duration': 30, 'name': 'Ram'}"
            ]
          },
          "metadata": {},
          "execution_count": 58
        }
      ]
    },
    {
      "cell_type": "markdown",
      "source": [
        "Q-30:"
      ],
      "metadata": {
        "id": "UTG67QMGDB1C"
      }
    },
    {
      "cell_type": "code",
      "source": [
        "list=[\"name\",\"rollno\",\"id\",\"course\"]\n",
        "print(set(list))"
      ],
      "metadata": {
        "colab": {
          "base_uri": "https://localhost:8080/"
        },
        "id": "VW7WCN4GDDjp",
        "outputId": "cb7f12bd-0aaa-4f78-b525-cf8685f72914"
      },
      "execution_count": null,
      "outputs": [
        {
          "output_type": "stream",
          "name": "stdout",
          "text": [
            "{'name', 'course', 'rollno', 'id'}\n"
          ]
        }
      ]
    },
    {
      "cell_type": "markdown",
      "source": [],
      "metadata": {
        "id": "dRi0PY1b57Ai"
      }
    },
    {
      "cell_type": "markdown",
      "source": [],
      "metadata": {
        "id": "dI2LZPPd6jbO"
      }
    },
    {
      "cell_type": "code",
      "source": [],
      "metadata": {
        "id": "MOvtLvji3V_7"
      },
      "execution_count": null,
      "outputs": []
    },
    {
      "cell_type": "code",
      "source": [],
      "metadata": {
        "id": "GJL9OU4O6iqh"
      },
      "execution_count": null,
      "outputs": []
    },
    {
      "cell_type": "markdown",
      "source": [],
      "metadata": {
        "id": "IDq8hBUD6iLD"
      }
    }
  ]
}